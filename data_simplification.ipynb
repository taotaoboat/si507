{
 "cells": [
  {
   "cell_type": "markdown",
   "metadata": {},
   "source": [
    "When using, please download dataset from https://www.kaggle.com/datasets/stackoverflow/pythonquestions/data?select=Tags.csv"
   ]
  },
  {
   "cell_type": "markdown",
   "metadata": {},
   "source": [
    "Libraries"
   ]
  },
  {
   "cell_type": "code",
   "execution_count": null,
   "metadata": {},
   "outputs": [],
   "source": [
    "import pandas as pd"
   ]
  },
  {
   "cell_type": "markdown",
   "metadata": {},
   "source": [
    "import Questions.csv"
   ]
  },
  {
   "cell_type": "code",
   "execution_count": null,
   "metadata": {},
   "outputs": [],
   "source": []
  },
  {
   "cell_type": "code",
   "execution_count": 20,
   "metadata": {},
   "outputs": [
    {
     "name": "stdout",
     "output_type": "stream",
     "text": [
      "    Id  OwnerUserId          CreationDate  Score  \\\n",
      "0  469        147.0  2008-08-02T15:11:16Z     21   \n",
      "1  502        147.0  2008-08-02T17:01:58Z     27   \n",
      "2  535        154.0  2008-08-02T18:43:54Z     40   \n",
      "3  594        116.0  2008-08-03T01:15:08Z     25   \n",
      "4  683        199.0  2008-08-03T13:19:16Z     28   \n",
      "\n",
      "                                               Title  \\\n",
      "0  How can I find the full path to a font from it...   \n",
      "1            Get a preview JPEG of a PDF on Windows?   \n",
      "2  Continuous Integration System for a Python Cod...   \n",
      "3     cx_Oracle: How do I iterate over a result set?   \n",
      "4  Using 'in' to match an attribute of Python obj...   \n",
      "\n",
      "                                                Body  \n",
      "0  <p>I am using the Photoshop's javascript API t...  \n",
      "1  <p>I have a cross-platform (Python) applicatio...  \n",
      "2  <p>I'm starting work on a hobby project with a...  \n",
      "3  <p>There are several ways to iterate over a re...  \n",
      "4  <p>I don't remember whether I was dreaming or ...  \n"
     ]
    }
   ],
   "source": [
    "# Load the CSV file into a DataFrame\n",
    "df = pd.read_csv('Questions.csv', encoding='ISO-8859-1')\n",
    "\n",
    "# Display the first few rows of the DataFrame\n",
    "print(df.head())\n"
   ]
  },
  {
   "cell_type": "markdown",
   "metadata": {},
   "source": [
    "import Answers.csv"
   ]
  },
  {
   "cell_type": "code",
   "execution_count": 21,
   "metadata": {},
   "outputs": [
    {
     "name": "stdout",
     "output_type": "stream",
     "text": [
      "    Id  OwnerUserId          CreationDate  ParentId  Score  \\\n",
      "0  497         50.0  2008-08-02T16:56:53Z       469      4   \n",
      "1  518        153.0  2008-08-02T17:42:28Z       469      2   \n",
      "2  536        161.0  2008-08-02T18:49:07Z       502      9   \n",
      "3  538        156.0  2008-08-02T18:56:56Z       535     23   \n",
      "4  541        157.0  2008-08-02T19:06:40Z       535     20   \n",
      "\n",
      "                                                Body  \n",
      "0  <p>open up a terminal (Applications-&gt;Utilit...  \n",
      "1  <p>I haven't been able to find anything that d...  \n",
      "2  <p>You can use ImageMagick's convert utility f...  \n",
      "3  <p>One possibility is Hudson.  It's written in...  \n",
      "4  <p>We run <a href=\"http://buildbot.net/trac\">B...  \n"
     ]
    }
   ],
   "source": [
    "answers_df = pd.read_csv('Answers.csv', encoding='ISO-8859-1')\n",
    "print(answers_df.head())"
   ]
  },
  {
   "cell_type": "markdown",
   "metadata": {},
   "source": [
    "import Tag.csv"
   ]
  },
  {
   "cell_type": "code",
   "execution_count": 25,
   "metadata": {},
   "outputs": [
    {
     "name": "stdout",
     "output_type": "stream",
     "text": [
      "    Id        Tag\n",
      "0  469     python\n",
      "1  469        osx\n",
      "2  469      fonts\n",
      "3  469  photoshop\n",
      "4  502     python\n"
     ]
    }
   ],
   "source": [
    "tags_df = pd.read_csv('Tags.csv', encoding='ISO-8859-1')\n",
    "print(tags_df.head())"
   ]
  },
  {
   "cell_type": "code",
   "execution_count": 22,
   "metadata": {},
   "outputs": [
    {
     "name": "stdout",
     "output_type": "stream",
     "text": [
      "              Id  OwnerUserId              CreationDate  Score  \\\n",
      "592756  39583763    5184293.0 2016-09-20 00:00:42+00:00      0   \n",
      "592757  39583773    5434764.0 2016-09-20 00:02:43+00:00      2   \n",
      "592758  39583782    3781715.0 2016-09-20 00:03:28+00:00      0   \n",
      "592759  39583789    1248804.0 2016-09-20 00:04:07+00:00      0   \n",
      "592760  39583798    6815381.0 2016-09-20 00:04:55+00:00      0   \n",
      "\n",
      "                                                    Title  \\\n",
      "592756  Importing Excel sheet using OpenyPyxl leads to...   \n",
      "592757  Pyspark DataFrame - How to use variables to ma...   \n",
      "592758              Python: how would I write a keyevent?   \n",
      "592759      Trying to load csv files as a list to be read   \n",
      "592760                            unicode for arrow keys?   \n",
      "\n",
      "                                                     Body  \n",
      "592756  <p>I'm trying to use Python/openpyxl to import...  \n",
      "592757  <p>I'm having a bit of trouble to make a join ...  \n",
      "592758  <p>So simply put I want my code to call a even...  \n",
      "592759  <p>I want to create a function that will load ...  \n",
      "592760  <p>I am trying to make a game where you can in...  \n",
      "Number of rows: 14525\n"
     ]
    }
   ],
   "source": [
    "df['CreationDate'] = pd.to_datetime(df['CreationDate'])\n",
    "filtered_df = df[df['CreationDate'] > '2016-09-20']\n",
    "print(filtered_df.head())\n",
    "num_rows = filtered_df.shape[0]\n",
    "print(\"Number of rows:\", num_rows)\n"
   ]
  },
  {
   "cell_type": "code",
   "execution_count": 23,
   "metadata": {},
   "outputs": [
    {
     "name": "stdout",
     "output_type": "stream",
     "text": [
      "              Id  OwnerUserId              CreationDate  Score  \\\n",
      "593576  39618943     261181.0 2016-09-21 14:07:21+00:00    148   \n",
      "602793  39980323    6260170.0 2016-10-11 14:59:23+00:00     72   \n",
      "603861  40018398    3124746.0 2016-10-13 10:25:25+00:00     54   \n",
      "599214  39843488     336527.0 2016-10-04 03:00:56+00:00     41   \n",
      "597533  39779538     178732.0 2016-09-29 20:35:58+00:00     35   \n",
      "...          ...          ...                       ...    ...   \n",
      "602605  39971625    4786305.0 2016-10-11 06:35:49+00:00      2   \n",
      "598671  39821687    6764079.0 2016-10-02 21:04:11+00:00      2   \n",
      "598677  39821866    6826422.0 2016-10-02 21:25:57+00:00      2   \n",
      "598687  39822087    6912714.0 2016-10-02 21:53:06+00:00      2   \n",
      "598690  39822188    3344239.0 2016-10-02 22:04:34+00:00      2   \n",
      "\n",
      "                                                    Title  \\\n",
      "593576  Why does the floating-point value of 4*0.1 loo...   \n",
      "602793             Dictionaries are ordered in Python 3.6   \n",
      "603861    list() uses more memory than list comprehension   \n",
      "599214  How to make an integer larger than any other i...   \n",
      "597533  How to get lineno of \"end-of-statement\" in Pyt...   \n",
      "...                                                   ...   \n",
      "602605  How to show yticks on the plot/graph (not on y...   \n",
      "598671                    Testing a time-dependent method   \n",
      "598677         How to use collection_class in SQLAlchemy?   \n",
      "598687  flask Sqlalchemy One to Many getting parent at...   \n",
      "598690                      Flask URL variable type None?   \n",
      "\n",
      "                                                     Body  \n",
      "593576  <p>I know that most decimals don't have an exa...  \n",
      "602793  <p>Dictionaries are ordered in Python 3.6, unl...  \n",
      "603861  <p>So i was playing with <code>list</code> obj...  \n",
      "599214  <p>Note: while the accepted answer achieves th...  \n",
      "597533  <p>I am trying to work on a script that manipu...  \n",
      "...                                                   ...  \n",
      "602605  <p>I have a plot with a simple line. For the m...  \n",
      "598671  <p>I have a method that takes a datetime and r...  \n",
      "598677  <p>I am trying to model hierarchical and histo...  \n",
      "598687  <p>Im trying to get the Pet owner or persons n...  \n",
      "598690  <p>I'm trying to pass a number through URL and...  \n",
      "\n",
      "[1000 rows x 6 columns]\n",
      "Number of rows: 1000\n"
     ]
    }
   ],
   "source": [
    "# Sort the DataFrame by the 'Score' column in descending order\n",
    "sorted_df = filtered_df.sort_values(by='Score', ascending=False)\n",
    "\n",
    "# Select the top 100 rows\n",
    "Question_top100_df = sorted_df.head(1000)\n",
    "\n",
    "# Display the top 100 rows\n",
    "print(Question_top100_df)\n",
    "num_rows = Question_top100_df.shape[0]\n",
    "print(\"Number of rows:\", num_rows)"
   ]
  },
  {
   "cell_type": "code",
   "execution_count": 24,
   "metadata": {},
   "outputs": [
    {
     "name": "stdout",
     "output_type": "stream",
     "text": [
      "              Id  OwnerUserId          CreationDate  ParentId  Score  \\\n",
      "969213  39586425    2901002.0  2016-09-20T05:37:14Z  39586398      2   \n",
      "969233  39587314     613246.0  2016-09-20T06:40:42Z  39585328      0   \n",
      "969303  39590286    1433392.0  2016-09-20T09:21:53Z  39590187      5   \n",
      "969305  39590317    1584386.0  2016-09-20T09:23:10Z  39590187      1   \n",
      "969307  39590393          NaN  2016-09-20T09:26:57Z  39590187      2   \n",
      "\n",
      "                                                     Body  \n",
      "969213  <p>You need cast column to <code>float</code> ...  \n",
      "969233  <p>The <a href=\"https://github.com/EelcoHoogen...  \n",
      "969303  <p>It means it will select the lastest version...  \n",
      "969305  <blockquote>\\n  <p>A compatible release clause...  \n",
      "969307  <p>That's the 'compatible release' <a href=\"ht...  \n",
      "Number of rows: 1705\n"
     ]
    }
   ],
   "source": [
    "Question_ids = Question_top100_df['Id'].unique()\n",
    "filtered_answers_df = answers_df[answers_df['ParentId'].isin(Question_ids)]\n",
    "print(filtered_answers_df.head())\n",
    "num_rows_answer = filtered_answers_df.shape[0]\n",
    "print(\"Number of rows:\", num_rows_answer)"
   ]
  },
  {
   "cell_type": "code",
   "execution_count": 26,
   "metadata": {},
   "outputs": [
    {
     "name": "stdout",
     "output_type": "stream",
     "text": [
      "               Id           Tag\n",
      "1839408  39585328        python\n",
      "1839409  39585328         numpy\n",
      "1839410  39585328          hash\n",
      "1839411  39585328  intersection\n",
      "1839466  39586398        python\n",
      "Number of rows: 3251\n"
     ]
    }
   ],
   "source": [
    "Question_ids = Question_top100_df['Id'].unique()\n",
    "filtered_tags_df = tags_df[tags_df['Id'].isin(Question_ids)]\n",
    "print(filtered_tags_df.head())\n",
    "num_rows_tags = filtered_tags_df.shape[0]\n",
    "print(\"Number of rows:\", num_rows_tags)"
   ]
  },
  {
   "cell_type": "markdown",
   "metadata": {},
   "source": [
    "to CSV"
   ]
  },
  {
   "cell_type": "code",
   "execution_count": 28,
   "metadata": {},
   "outputs": [],
   "source": [
    "# Save the first filtered DataFrame\n",
    "Question_top100_df.to_csv('filtered_questions_top100_df.csv', index=False)\n",
    "\n",
    "# Save the second filtered DataFrame\n",
    "filtered_answers_df.to_csv('filtered_answers_df.csv', index=False)\n",
    "\n",
    "# Save the third filtered DataFrame\n",
    "filtered_tags_df.to_csv('filtered_tags_df.csv', index=False)\n"
   ]
  },
  {
   "cell_type": "code",
   "execution_count": 6,
   "metadata": {},
   "outputs": [],
   "source": [
    "import pandas as pd\n",
    "Question_top100_df = pd.read_csv('filtered_questions_top100_df.csv', encoding='ISO-8859-1')\n",
    "filtered_answers_df= pd.read_csv('filtered_answers_df.csv', encoding='ISO-8859-1')\n",
    "filtered_tags_df= pd.read_csv('filtered_tags_df.csv', encoding='ISO-8859-1')\n"
   ]
  },
  {
   "cell_type": "markdown",
   "metadata": {},
   "source": [
    "match datasets"
   ]
  },
  {
   "cell_type": "code",
   "execution_count": 8,
   "metadata": {},
   "outputs": [
    {
     "name": "stdout",
     "output_type": "stream",
     "text": [
      "Current Working Directory: d:\\y6s1\\si507\\Final_project\\dataset\n",
      "File found. Reading the file...\n",
      "Questions read from the file:\n",
      "0: What are Python decorators and how would you use them?\n",
      "1: How would you setup many projects where each one uses different versions of Python and third party libraries?\n",
      "2: What is PEP8 and do you follow its guidelines when you're coding?\n",
      "3: How are arguments passed – by reference of by value? (easy, but not that easy, I'm not sure if I can answer this clearly)\n",
      "4: Do you know what list and dict comprehensions are? Can you give an example?\n",
      "5: Show me three different ways of fetching every third item in the list\n",
      "6: Do you know what is the difference between lists and tuples? Can you give me an example for their usage?\n",
      "7: Do you know the difference between range and xrange?\n",
      "8: Tell me a few differences between Python 2.x and 3.x?\n",
      "9: The with statement and its usage.\n",
      "10: How to avoid cyclical imports without having to resort to imports in functions?\n",
      "11: what's wrong with import all?\n",
      "12: Why is the GIL important? (This actually puzzles me, don't know the answer)\n",
      "13: What are \"special\" methods (<foo>), how they work, etc\n",
      "14: can you manipulate functions as first-class objects?\n",
      "15: the difference between \"class Foo\" and \"class Foo(object)\"\n",
      "16: how to read a 8GB file in python?\n",
      "17: what don't you like about Python?\n",
      "18: can you convert ascii characters to an integer without using built in methods like string.atoi or int()? curious one\n",
      "19: subjective ones\n",
      "20: do you use tabs or spaces, which ones are better?\n"
     ]
    }
   ],
   "source": [
    "\n",
    "#step 1: input txt file\n",
    "import os\n",
    "\n",
    "# Print the current working directory\n",
    "current_directory = os.getcwd()\n",
    "print(\"Current Working Directory:\", current_directory)\n",
    "\n",
    "# Filename\n",
    "file_name = \"interview_questions.txt\"\n",
    "\n",
    "# Full path to the file\n",
    "file_path = os.path.join(current_directory, file_name)\n",
    "\n",
    "# Check if the file exists\n",
    "if os.path.isfile(file_path):\n",
    "    print(\"File found. Reading the file...\")\n",
    "    questions_list = []\n",
    "    try:\n",
    "        with open(file_path, 'r', encoding='utf-8') as file:  # Specify UTF-8 encoding\n",
    "            questions_list = [line.strip() for line in file]\n",
    "        print(\"Questions read from the file:\")\n",
    "        for index, question in enumerate(questions_list):\n",
    "            print(f\"{index}: {question}\")\n",
    "    except UnicodeDecodeError as e:\n",
    "        print(f\"UnicodeDecodeError: {e}. You might need to check the file encoding.\")\n",
    "else:\n",
    "    print(f\"File not found at {file_path}. Please check the file location and name.\")\n",
    "\n",
    "\n"
   ]
  },
  {
   "cell_type": "code",
   "execution_count": 65,
   "metadata": {},
   "outputs": [
    {
     "name": "stdout",
     "output_type": "stream",
     "text": [
      "{'one', 'different', 'libraries?', 'would', 'where', 'third', 'party', 'projects', 'each', 'many', 'versions', 'of', 'and', 'setup', 'uses', 'python', 'you'}\n",
      "0: python pandas, trying to find unique combinations of two columns and merging while summing a third column\n",
      "1: what could cause html and script to behave different across iterations of a for loop?\n",
      "2: Concurrent download and processing of large files in python\n",
      "3: Different Color Result Between Python OpenCV and MATLAB\n",
      "4: Creating a dictionary where the key is an integer and the value is the length of a random sentence\n",
      "5: Scatter and Hist in one subplot in Python\n",
      "6: ZeroMQ: load balance many workers and one master\n",
      "7: Applying modulo to all elements of a python list and getting some correct some incorrect elements\n",
      "8: Permutations of 2 characters in Python into fixed length string with equal numbers of each character\n",
      "9: Why does the floating-point value of 4*0.1 look nice in Python 3 but 3*0.1 doesn't?\n"
     ]
    }
   ],
   "source": [
    "#step 2:match questions between interview questions and the question dataset\n",
    "def extract_keywords(question):\n",
    "    # A simple function to extract keywords from a question\n",
    "    # For a more advanced implementation, consider using NLP techniques\n",
    "    ignore_words = ['the', 'what', 'is', 'how', 'do', 'does', 'explain', 'in', 'a', 'an']\n",
    "    words = question.lower().split()\n",
    "    keywords = [word for word in words if word not in ignore_words]\n",
    "    return set(keywords)\n",
    "\n",
    "def match_complex_questions(simple_question, complex_questions):\n",
    "    # Extract keywords from the simple question\n",
    "    simple_question_keywords = extract_keywords(simple_question)\n",
    "    print(simple_question_keywords)\n",
    "\n",
    "    # Score each complex question based on keyword matches\n",
    "    match_scores = {}\n",
    "    for complex_question in complex_questions:\n",
    "        complex_question_keywords = extract_keywords(complex_question)\n",
    "        common_keywords = simple_question_keywords.intersection(complex_question_keywords)\n",
    "        match_scores[complex_question] = len(common_keywords)\n",
    "\n",
    "    # Sort complex questions based on their match score\n",
    "    sorted_complex_questions = sorted(match_scores, key=match_scores.get, reverse=True)\n",
    "\n",
    "    # Return the top 2 matches\n",
    "    return sorted_complex_questions[:10]\n",
    "\n",
    "# Example usage\n",
    "complex_questions_list = Question_top100_df['Title'].tolist()\n",
    "matched_complex_questions_val = match_complex_questions(questions_list[1], complex_questions_list)\n",
    "#print(questions_list[1])\n",
    "for index, question in enumerate(matched_complex_questions):\n",
    "            print(f\"{index}: {question}\")"
   ]
  },
  {
   "cell_type": "markdown",
   "metadata": {},
   "source": [
    "find keywords"
   ]
  },
  {
   "cell_type": "code",
   "execution_count": 61,
   "metadata": {},
   "outputs": [
    {
     "name": "stdout",
     "output_type": "stream",
     "text": [
      "{'different', 'libraries?', 'where', 'third', 'party', 'projects', 'each', 'versions', 'of', 'and', 'setup', 'uses', 'python', 'you'}\n"
     ]
    }
   ],
   "source": []
  },
  {
   "cell_type": "code",
   "execution_count": null,
   "metadata": {},
   "outputs": [],
   "source": []
  },
  {
   "cell_type": "code",
   "execution_count": 69,
   "metadata": {},
   "outputs": [
    {
     "name": "stdout",
     "output_type": "stream",
     "text": [
      "{'different', 'libraries?', 'where', 'third', 'party', 'projects', 'each', 'versions', 'of', 'and', 'setup', 'uses', 'python', 'you'}\n"
     ]
    }
   ],
   "source": [
    "def extract_keywords(question):\n",
    "    # A simple function to extract keywords from a question\n",
    "    # For a more advanced implementation, consider using NLP techniques\n",
    "    ignore_words = ['the', 'what', 'is', 'how', 'do', 'does', 'explain', 'in', 'a', 'an', 'one','would','many']\n",
    "    words = question.lower().split()\n",
    "    keywords = [word for word in words if word not in ignore_words]\n",
    "    return set(keywords)\n",
    "\n",
    "complex_questions_list = Question_top100_df['Title'].tolist()\n",
    "simple_question= questions_list[1]\n",
    "simple_question_keywords = extract_keywords(simple_question)\n",
    "print(simple_question_keywords)\n"
   ]
  },
  {
   "cell_type": "code",
   "execution_count": 72,
   "metadata": {},
   "outputs": [
    {
     "name": "stdout",
     "output_type": "stream",
     "text": [
      "{'different', 'where', 'third', 'party', 'projects', 'each', 'versions', 'of', 'and', 'setup', 'uses', 'libraries', 'python', 'you'}\n"
     ]
    }
   ],
   "source": [
    "import string\n",
    "\n",
    "def extract_keywords(sentence):\n",
    "    # Define a set of stopwords\n",
    "    stopwords = set(['the', 'what', 'is', 'how', 'do', 'does', 'explain', 'in', 'a', 'an', 'one','would','many'])\n",
    "\n",
    "    # Remove punctuation from the sentence\n",
    "    sentence = sentence.translate(str.maketrans('', '', string.punctuation))\n",
    "\n",
    "    # Split the sentence into words and filter out stopwords\n",
    "    keywords = set(word.lower() for word in sentence.split() if word.lower() not in stopwords)\n",
    "\n",
    "    return keywords\n",
    "complex_questions_list = Question_top100_df['Title'].tolist()\n",
    "simple_question= questions_list[1]\n",
    "simple_question_keywords = extract_keywords(simple_question)\n",
    "print(simple_question_keywords)"
   ]
  },
  {
   "cell_type": "code",
   "execution_count": 62,
   "metadata": {},
   "outputs": [
    {
     "name": "stdout",
     "output_type": "stream",
     "text": [
      "Top Matching IDs: [39630676, 40047291, 39687713, 39751866, 39919699, 39980323, 40024294, 39864184, 40025238, 39723061]\n"
     ]
    }
   ],
   "source": [
    "def match_keywords_get_ids(keywords, tags_df, top_n=10):\n",
    "    # Ensure keywords is a list and remove any duplicates\n",
    "    keywords = list(set(keywords))\n",
    "\n",
    "    # Initialize an empty DataFrame to store matched tags\n",
    "    matched_tags = pd.DataFrame()\n",
    "\n",
    "    # Loop through keywords to match tags and concatenate results\n",
    "    for keyword in keywords:\n",
    "        matched = tags_df[tags_df['Tag'].str.contains(keyword, case=False, na=False)]\n",
    "        matched_tags = pd.concat([matched_tags, matched])\n",
    "\n",
    "    # Drop duplicates in case the same tag matches multiple keywords\n",
    "    matched_tags = matched_tags.drop_duplicates()\n",
    "\n",
    "    # Group by 'Id' and count the number of matches for each Id\n",
    "    # Then sort by this count to get the top matches\n",
    "    top_matches = (matched_tags.groupby('Id')\n",
    "                                .size()\n",
    "                                .reset_index(name='matches')\n",
    "                                .sort_values(by='matches', ascending=False)\n",
    "                                .head(top_n))\n",
    "    return top_matches['Id'].tolist()\n",
    "\n",
    "# Example usage\n",
    "top_matching_ids = match_keywords_get_ids(simple_question_keywords, filtered_tags_df)\n",
    "print(\"Top Matching IDs:\", top_matching_ids)\n"
   ]
  },
  {
   "cell_type": "code",
   "execution_count": 63,
   "metadata": {},
   "outputs": [
    {
     "name": "stdout",
     "output_type": "stream",
     "text": [
      "How would you setup many projects where each one uses different versions of Python and third party libraries?\n",
      "1, Dictionaries are ordered in Python 3.6\n",
      "174, A print function makes a multiprocessing program fail\n",
      "313, Given only source file, what files does it import?\n",
      "499, How can I use unittest.mock to remove side effects from code?\n",
      "644, Pandas data frame combine rows\n",
      "647, expanding rows in pandas dataframe\n",
      "806, What the difference between dict_proxy in python2 and mappingproxy in python3?\n",
      "896, Reading csv from url and pushing it in DB through pandas\n",
      "906, How to extract date form data frame column?\n",
      "968, Renaming python.exe to python3.exe for co-existence with python2 on Windows\n"
     ]
    }
   ],
   "source": [
    "def find_linked_questions(ids, questions_df):\n",
    "    # Filter the DataFrame for rows where 'Id' is in the list of ids\n",
    "    linked_questions = questions_df[questions_df['Id'].isin(ids)]\n",
    "    return linked_questions\n",
    "\n",
    "print(simple_question)\n",
    "# Get the linked questions\n",
    "linked_questions_df = find_linked_questions(top_matching_ids, Question_top100_df)\n",
    "snippet_length = 100  # for example, the first 100 characters\n",
    "\n",
    "for index, row in linked_questions_df.iterrows():\n",
    "    print(f\"{index}, {row['Title'][:snippet_length]}\")\n",
    "\n"
   ]
  },
  {
   "cell_type": "code",
   "execution_count": 68,
   "metadata": {},
   "outputs": [
    {
     "name": "stdout",
     "output_type": "stream",
     "text": [
      "Valid input. Continuing...\n"
     ]
    }
   ],
   "source": [
    "def is_int_between_0_and_20(value):\n",
    "    try:\n",
    "        int_value = int(value)\n",
    "        return 0 <= int_value <= 20\n",
    "    except ValueError:\n",
    "        return False\n",
    "while True:\n",
    "  user_input = input(\"Please type a number from 0 to 20 to get started: \")\n",
    "  if is_int_between_0_and_20(user_input):\n",
    "      print(\"Valid input. Continuing...\")\n",
    "      break  # Exit the loop if the input is valid\n",
    "  else:\n",
    "      print(\"Invalid input. Please try again.\")\n"
   ]
  }
 ],
 "metadata": {
  "kernelspec": {
   "display_name": "Python 3",
   "language": "python",
   "name": "python3"
  },
  "language_info": {
   "codemirror_mode": {
    "name": "ipython",
    "version": 3
   },
   "file_extension": ".py",
   "mimetype": "text/x-python",
   "name": "python",
   "nbconvert_exporter": "python",
   "pygments_lexer": "ipython3",
   "version": "3.11.5"
  }
 },
 "nbformat": 4,
 "nbformat_minor": 2
}
